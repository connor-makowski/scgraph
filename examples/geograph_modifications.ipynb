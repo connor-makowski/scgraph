{
 "cells": [
  {
   "cell_type": "code",
   "execution_count": null,
   "metadata": {},
   "outputs": [],
   "source": [
    "pip install scgraph>=2.9.0"
   ]
  },
  {
   "cell_type": "markdown",
   "metadata": {},
   "source": [
    "In this notebook we will be modifying the marnet geograph to clean up the ocean route in the Tsugaru Straight. \n",
    "\n",
    "The Tsugaru Straight is a narrow straight between the islands of Honshu and Hokkaido in Japan. The current route goes through the straight but crosses over some land. We will be modifying the route to go around the southern tip of Hokkaido.\n",
    "\n",
    "First we will import the current marnet geograph and plot it. Then we will modify the route and plot it again."
   ]
  },
  {
   "cell_type": "code",
   "execution_count": null,
   "metadata": {},
   "outputs": [],
   "source": [
    "from scgraph.geographs.marnet import marnet_geograph\n",
    "# Save the geograph as a GeoJSON file in your current working directory\n",
    "marnet_geograph.save_as_geojson(\"marnet_geograph.geojson\")"
   ]
  },
  {
   "cell_type": "markdown",
   "metadata": {},
   "source": [
    "Navigate to `geojson.io` and add the `marnet_geograph.geojson` file you just created to the map. \n",
    "\n",
    "Zoom in on the Tsugaru Straight and find the arc that crosses over the land. This is the arc we will be modifying. Click on the arc to view its properties. Take note of the `origin_idx` and `destination_idx`. These are the indices of the origin and destination nodes of the arc in the nodes array.\n",
    "\n",
    "In the top right hand of the map, you can click on the little map pin icon to drop a new point on the map. Drop it off the southern tip of Hokkaido. This will be the new point that the arc will pass through. Then drop another point part way through the straight to avoid going over the eastern peninsula of Hokkaido.\n",
    "\n",
    "Click on those points, navigate to the `info` tab in the popup, and take note of the `Latitute` and `Longitude` of the points.\n",
    "\n",
    "Now we will modify the geograph."
   ]
  },
  {
   "cell_type": "code",
   "execution_count": null,
   "metadata": {},
   "outputs": [],
   "source": [
    "# Remove the existing arc between the original nodes:\n",
    "marnet_geograph.mod_remove_arc(origin_idx=57, destination_idx=8697)\n",
    "\n",
    "# Add the two new nodes:\n",
    "# Note: The latitude and longitude values are the ones I got when dropping my pins in geojson.io\n",
    "# Note: mod_add_node() returns the index of the newly added node. We will use this index to add the arcs.\n",
    "n1=marnet_geograph.mod_add_node(\n",
    "    latitude=41.6757,\n",
    "    longitude=141.2373\n",
    ")\n",
    "n2=marnet_geograph.mod_add_node(\n",
    "    latitude=41.3559,\n",
    "    longitude=140.2468\n",
    ")\n",
    "\n",
    "# Add the three new arcs:\n",
    "marnet_geograph.mod_add_arc(\n",
    "    origin_idx=57,\n",
    "    destination_idx=n1\n",
    ")\n",
    "\n",
    "marnet_geograph.mod_add_arc(\n",
    "    origin_idx=n1,\n",
    "    destination_idx=n2\n",
    ")\n",
    "\n",
    "marnet_geograph.mod_add_arc(\n",
    "    origin_idx=n2,\n",
    "    destination_idx=8697\n",
    ")\n",
    "\n",
    "# Save the modified geograph as a GeoJSON file in your current working directory\n",
    "marnet_geograph.save_as_geojson(\"marnet_geograph_modified.geojson\")"
   ]
  },
  {
   "cell_type": "markdown",
   "metadata": {},
   "source": [
    "Go back to `geojson.io` and click on the `New` button in the top left. Then drag and drop your `marnet_geograph_modified.geojson` file into the map. Zoom in on the Tsugaru Straight to see the new route.\n",
    "\n",
    "To save this as a custom geograph and avoid this overhead each time, you should save the modified geograph as a new file."
   ]
  },
  {
   "cell_type": "code",
   "execution_count": null,
   "metadata": {},
   "outputs": [],
   "source": [
    "marnet_geograph.save_as_geograph(\"custom_marnet\")\n",
    "# Note: This file is saved in your current working directory\n",
    "# as custom_marnet.py and the geograph can be imported with:\n",
    "# from .custom_marnet import custom_marnet_geograph"
   ]
  }
 ],
 "metadata": {
  "language_info": {
   "name": "python"
  }
 },
 "nbformat": 4,
 "nbformat_minor": 2
}
