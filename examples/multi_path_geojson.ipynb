{
 "cells": [
  {
   "cell_type": "code",
   "execution_count": null,
   "metadata": {},
   "outputs": [],
   "source": [
    "pip install scgraph>=2.8.2"
   ]
  },
  {
   "cell_type": "code",
   "execution_count": 2,
   "metadata": {},
   "outputs": [],
   "source": [
    "from scgraph.geographs.marnet import marnet_geograph\n",
    "from scgraph.core import get_multi_path_geojson"
   ]
  },
  {
   "cell_type": "code",
   "execution_count": 3,
   "metadata": {},
   "outputs": [],
   "source": [
    "# Define the routes to calculate for the GeoJSON file\n",
    "routes = [\n",
    "    {\n",
    "        \"properties\":{\"id\": \"Baltimore-London\"}, \n",
    "        \"origin\":{\"latitude\":39.2904, \"longitude\":-76.6122}, \n",
    "        \"destination\":{\"latitude\":51.5074, \"longitude\":-0.1278},\n",
    "        \"geograph\": marnet_geograph\n",
    "    },\n",
    "    {\n",
    "        \"properties\":{\"id\": \"Baltimore-Paris\"}, \n",
    "        \"origin\":{\"latitude\":39.2904, \"longitude\":-76.6122}, \n",
    "        \"destination\":{\"latitude\":48.8566, \"longitude\":2.3522},\n",
    "        \"geograph\": marnet_geograph\n",
    "    },\n",
    "    {\n",
    "        \"properties\":{\"id\": \"Baltimore-Berlin\"}, \n",
    "        \"origin\":{\"latitude\":39.2904, \"longitude\":-76.6122}, \n",
    "        \"destination\":{\"latitude\":52.5200, \"longitude\":13.4050},\n",
    "        \"geograph\": marnet_geograph\n",
    "    },\n",
    "]"
   ]
  },
  {
   "cell_type": "code",
   "execution_count": 4,
   "metadata": {},
   "outputs": [
    {
     "name": "stdout",
     "output_type": "stream",
     "text": [
      "[====================>] 3/3\n",
      "GeoJSON file created successfully!\n"
     ]
    }
   ],
   "source": [
    "# Create the GeoJSON file\n",
    "get_multi_path_geojson(\n",
    "    routes=routes, \n",
    "    filename=\"multi_route.geojson\",\n",
    "    show_progress=True\n",
    ")\n",
    "print(\"GeoJSON file created successfully!\")"
   ]
  }
 ],
 "metadata": {
  "kernelspec": {
   "display_name": "venv",
   "language": "python",
   "name": "python3"
  },
  "language_info": {
   "codemirror_mode": {
    "name": "ipython",
    "version": 3
   },
   "file_extension": ".py",
   "mimetype": "text/x-python",
   "name": "python",
   "nbconvert_exporter": "python",
   "pygments_lexer": "ipython3",
   "version": "3.12.3"
  }
 },
 "nbformat": 4,
 "nbformat_minor": 2
}
