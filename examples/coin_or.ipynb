{
 "cells": [
  {
   "cell_type": "markdown",
   "id": "75c58107",
   "metadata": {},
   "source": [
    "# Operations Research Example\n",
    "\n",
    "This file shows how to use SCGraph to generate a distance matrix for a set of cities and solve the TSP for that distance matrix using PULP (CBC Solver from COIN-OR)."
   ]
  },
  {
   "cell_type": "code",
   "execution_count": null,
   "id": "f7b12b0f",
   "metadata": {},
   "outputs": [],
   "source": [
    "# pip install scgraph==2.14.0\n",
    "# pip install pulp==3.3.0"
   ]
  },
  {
   "cell_type": "code",
   "execution_count": 1,
   "id": "46aa00a2",
   "metadata": {},
   "outputs": [],
   "source": [
    "from scgraph.geographs.us_freeway import us_freeway_geograph\n",
    "\n",
    "# Define a list of cities with their latitude and longitude\n",
    "cities = [\n",
    "    {\"latitude\": 34.0522, \"longitude\": -118.2437},  # Los Angeles\n",
    "    {\"latitude\": 40.7128, \"longitude\": -74.0060},   # New York City\n",
    "    {\"latitude\": 41.8781, \"longitude\": -87.6298},   # Chicago\n",
    "    {\"latitude\": 29.7604, \"longitude\": -95.3698},   # Houston\n",
    "    {\"latitude\": 33.7490, \"longitude\": -84.3880},   # Atlanta\n",
    "    {\"latitude\": 25.7617, \"longitude\": -80.1918},   # Miami\n",
    "    {\"latitude\": 47.6062, \"longitude\": -122.3321},  # Seattle\n",
    "    {\"latitude\": 44.9778, \"longitude\": -93.2650},   # Minneapolis\n",
    "    {\"latitude\": 39.7392, \"longitude\": -104.9903},  # Denver\n",
    "    {\"latitude\": 37.7749, \"longitude\": -122.4194},  # San Francisco\n",
    "    {\"latitude\": 42.3601, \"longitude\": -71.0589},   # Boston\n",
    "    {\"latitude\": 38.9072, \"longitude\": -77.0369},   # Washington DC\n",
    "    {\"latitude\": 32.7765, \"longitude\": -79.9311},   # Charleston\n",
    "    {\"latitude\": 29.9511, \"longitude\": -90.0715},   # New Orleans\n",
    "]\n",
    "\n",
    "# Define city names for output mapping\n",
    "city_names = [\n",
    "    \"Los Angeles\", \"New York City\", \"Chicago\", \"Houston\", \"Atlanta\",\n",
    "    \"Miami\", \"Seattle\", \"Minneapolis\", \"Denver\", \"San Francisco\",\n",
    "    \"Boston\", \"Washington DC\", \"Charleston\", \"New Orleans\"\n",
    "]\n",
    "\n",
    "# Compute the distance matrix using the US freeway geograph from SCGraph\n",
    "distance_matrix = us_freeway_geograph.distance_matrix(cities, output_units='km')"
   ]
  },
  {
   "cell_type": "code",
   "execution_count": 2,
   "id": "f200714e",
   "metadata": {},
   "outputs": [],
   "source": [
    "import pulp\n",
    "def solve_tsp(distance_matrix: list[list[float]]) -> tuple[list[int], float]:\n",
    "    \"\"\"\n",
    "    Function: \n",
    "\n",
    "    - Solve the Traveling Salesman Problem (TSP) using Mixed Integer Linear Programming (MILP) in PuLP with the CBC solver from COIN-OR.\n",
    "\n",
    "    Required Arguments:\n",
    "\n",
    "    - distance_matrix: A 2D list or numpy array representing the distance between a pair of nodes.\n",
    "\n",
    "    Returns:\n",
    "\n",
    "    - tour: A list of node indices representing the order of the tour relative to the input distance matrix indices.\n",
    "    - total_distance: The total distance of the optimal tour.\n",
    "    \"\"\"\n",
    "    n = len(distance_matrix)\n",
    "    cities = range(n)\n",
    "\n",
    "    # Create the problem\n",
    "    problem = pulp.LpProblem(\"TSP\", pulp.LpMinimize)\n",
    "\n",
    "    # Decision variables: x[i][j] = 1 if we travel from i to j\n",
    "    x = pulp.LpVariable.dicts(\"x\", (cities, cities), cat=\"Binary\")\n",
    "    # Store variable to track order and eliminate subtours\n",
    "    order = pulp.LpVariable.dicts(\"u\", cities, lowBound=0, upBound=n-1, cat=\"Continuous\")\n",
    "\n",
    "    # Objective: minimize total travel distance\n",
    "    problem += pulp.lpSum(distance_matrix[i][j] * x[i][j] for i in cities for j in cities if i != j)\n",
    "\n",
    "    # Constraints: leave each city exactly once\n",
    "    for i in cities:\n",
    "        problem += pulp.lpSum(x[i][j] for j in cities if i != j) == 1\n",
    "\n",
    "    # Constraints: enter each city exactly once\n",
    "    for j in cities:\n",
    "        problem += pulp.lpSum(x[i][j] for i in cities if i != j) == 1\n",
    "\n",
    "    # Subtour elimination constraints (MTZ formulation)\n",
    "    for i in cities:\n",
    "        for j in cities:\n",
    "            if i != j and i != 0 and j != 0:\n",
    "                problem += order[i] - order[j] + (n - 1) * x[i][j] <= n - 2\n",
    "\n",
    "    # Solve\n",
    "    solver = pulp.PULP_CBC_CMD(msg=0)\n",
    "    problem.solve(solver)\n",
    "\n",
    "    # Extract solution\n",
    "    tour = [0]\n",
    "    current_city = 0\n",
    "    while len(tour) < n:\n",
    "        for j in cities:\n",
    "            if j != current_city and pulp.value(x[current_city][j]) == 1:\n",
    "                tour.append(j)\n",
    "                current_city = j\n",
    "                break\n",
    "\n",
    "    # Close the tour\n",
    "    tour.append(0)\n",
    "\n",
    "    total_distance = pulp.value(problem.objective)\n",
    "    return tour, total_distance"
   ]
  },
  {
   "cell_type": "code",
   "execution_count": 3,
   "id": "594ccc36",
   "metadata": {},
   "outputs": [
    {
     "name": "stdout",
     "output_type": "stream",
     "text": [
      "Optimal tour (15369 km):\n",
      "-> Los Angeles\n",
      "-> Houston\n",
      "-> New Orleans\n",
      "-> Atlanta\n",
      "-> Miami\n",
      "-> Charleston\n",
      "-> Washington DC\n",
      "-> New York City\n",
      "-> Boston\n",
      "-> Chicago\n",
      "-> Minneapolis\n",
      "-> Denver\n",
      "-> Seattle\n",
      "-> San Francisco\n",
      "-> Los Angeles\n"
     ]
    }
   ],
   "source": [
    "# Solve the TSP for the given distance matrix\n",
    "tour, total_distance = solve_tsp(distance_matrix)\n",
    "\n",
    "# Print the optimal tour and its total distance by mapping indices to city names\n",
    "print(f\"Optimal tour ({round(total_distance)} km):\\n->\", \"\\n-> \".join(city_names[i] for i in tour))"
   ]
  }
 ],
 "metadata": {
  "kernelspec": {
   "display_name": "venv (3.12.3)",
   "language": "python",
   "name": "python3"
  },
  "language_info": {
   "codemirror_mode": {
    "name": "ipython",
    "version": 3
   },
   "file_extension": ".py",
   "mimetype": "text/x-python",
   "name": "python",
   "nbconvert_exporter": "python",
   "pygments_lexer": "ipython3",
   "version": "3.12.3"
  }
 },
 "nbformat": 4,
 "nbformat_minor": 5
}
